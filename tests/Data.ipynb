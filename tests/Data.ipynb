{
 "cells": [
  {
   "cell_type": "code",
   "execution_count": 1,
   "metadata": {},
   "outputs": [],
   "source": [
    "import os\n",
    "import polars as pl\n",
    "import hashlib\n",
    "from unidecode import unidecode"
   ]
  },
  {
   "cell_type": "code",
   "execution_count": 2,
   "metadata": {},
   "outputs": [],
   "source": [
    "URL_2023 = 'https://servicos.dpf.gov.br/dadosabertos/SINARM_CSV/OCORRENCIAS/OCORRENCIAS_ate_2023.csv'\n",
    "URL_2024 = 'https://servicos.dpf.gov.br/dadosabertos/SINARM_CSV/OCORRENCIAS/OCORRENCIAS_2024.csv'\n",
    "CONN_URL = f'postgresql://{os.environ['PGUSER']}:{os.environ['PGPASSWORD']}@{os.environ['PGHOST']}:5432/{os.environ['PGDATABASE']}'"
   ]
  },
  {
   "cell_type": "code",
   "execution_count": 25,
   "metadata": {},
   "outputs": [],
   "source": [
    "# df = pl.read_csv(URL_2023, separator=',', encoding='ISO-8859-1', schema_overrides=schema)\n",
    "df  = pl.read_csv(URL_2024, separator=';', encoding='ISO-8859-1')"
   ]
  },
  {
   "cell_type": "code",
   "execution_count": 26,
   "metadata": {},
   "outputs": [],
   "source": [
    "df = df.with_columns(\n",
    "        pl.col('MUNICIPIO').map_elements(lambda x: unidecode(x), return_dtype=pl.String),\n",
    "        pl.col('TIPO_OCORRENCIA').map_elements(lambda x: unidecode(x), return_dtype=pl.String).str.strip_chars(),\n",
    "        pl.col('CALIBRE_ARMA').str.strip_chars(),\n",
    "        pl.col('ANO_OCORRENCIA').cast(pl.Int32),\n",
    "        pl.col('MES_OCORRENCIA').cast(pl.Int32),\n",
    "        pl.col('TOTAL').cast(pl.Int32),\n",
    "        pl.when( pl.col('MAIS_1000_MIL_HAB') == 'S').then(1).otherwise(0).alias('MAIS_1000_MIL_HAB')\n",
    ")\n",
    "df = df.rename({col: col.lower() for col in df.columns})"
   ]
  },
  {
   "cell_type": "code",
   "execution_count": 5,
   "metadata": {},
   "outputs": [
    {
     "data": {
      "text/plain": [
       "5026"
      ]
     },
     "execution_count": 5,
     "metadata": {},
     "output_type": "execute_result"
    }
   ],
   "source": [
    "df.write_database('raw.ocorrencias',CONN_URL, if_table_exists='append', engine=\"adbc\")"
   ]
  },
  {
   "cell_type": "code",
   "execution_count": 31,
   "metadata": {},
   "outputs": [
    {
     "data": {
      "text/html": [
       "<div><style>\n",
       ".dataframe > thead > tr,\n",
       ".dataframe > tbody > tr {\n",
       "  text-align: right;\n",
       "  white-space: pre-wrap;\n",
       "}\n",
       "</style>\n",
       "<small>shape: (5, 2)</small><table border=\"1\" class=\"dataframe\"><thead><tr><th>id_uf</th><th>desc_uf</th></tr><tr><td>i64</td><td>str</td></tr></thead><tbody><tr><td>1467947522</td><td>&quot;  &quot;</td></tr><tr><td>1205062640</td><td>&quot;AC&quot;</td></tr><tr><td>1612019898</td><td>&quot;AL&quot;</td></tr><tr><td>1827415075</td><td>&quot;AM&quot;</td></tr><tr><td>4824591479</td><td>&quot;AP&quot;</td></tr></tbody></table></div>"
      ],
      "text/plain": [
       "shape: (5, 2)\n",
       "┌────────────┬─────────┐\n",
       "│ id_uf      ┆ desc_uf │\n",
       "│ ---        ┆ ---     │\n",
       "│ i64        ┆ str     │\n",
       "╞════════════╪═════════╡\n",
       "│ 1467947522 ┆         │\n",
       "│ 1205062640 ┆ AC      │\n",
       "│ 1612019898 ┆ AL      │\n",
       "│ 1827415075 ┆ AM      │\n",
       "│ 4824591479 ┆ AP      │\n",
       "└────────────┴─────────┘"
      ]
     },
     "execution_count": 31,
     "metadata": {},
     "output_type": "execute_result"
    }
   ],
   "source": [
    "df_uf = df.with_columns([\n",
    "    pl.concat_str(['uf']).hash().cast(pl.String).str.slice(0,10).cast(pl.Int64).alias('id_uf')\n",
    "    ,pl.col('uf').alias('desc_uf')]\n",
    ").select(pl.col('id_uf'), pl.col('desc_uf')).unique().sort(by='desc_uf')\n",
    "\n",
    "df_uf.write_database('refined.dim_uf',CONN_URL, if_table_exists='append', engine=\"sqlalchemy\")\n",
    "df_uf.head()"
   ]
  },
  {
   "cell_type": "code",
   "execution_count": 33,
   "metadata": {},
   "outputs": [
    {
     "data": {
      "text/html": [
       "<div><style>\n",
       ".dataframe > thead > tr,\n",
       ".dataframe > tbody > tr {\n",
       "  text-align: right;\n",
       "  white-space: pre-wrap;\n",
       "}\n",
       "</style>\n",
       "<small>shape: (5, 2)</small><table border=\"1\" class=\"dataframe\"><thead><tr><th>id_municipio</th><th>desc_municipio</th></tr><tr><td>i64</td><td>str</td></tr></thead><tbody><tr><td>8020685699</td><td>&quot;                              …</td></tr><tr><td>7033997000</td><td>&quot;ABADIANIA                     …</td></tr><tr><td>1302237676</td><td>&quot;ABAETETUBA                    …</td></tr><tr><td>1534278933</td><td>&quot;ACAUA                         …</td></tr><tr><td>8891096194</td><td>&quot;ACOPIARA                      …</td></tr></tbody></table></div>"
      ],
      "text/plain": [
       "shape: (5, 2)\n",
       "┌──────────────┬─────────────────────────────────┐\n",
       "│ id_municipio ┆ desc_municipio                  │\n",
       "│ ---          ┆ ---                             │\n",
       "│ i64          ┆ str                             │\n",
       "╞══════════════╪═════════════════════════════════╡\n",
       "│ 8020685699   ┆                               … │\n",
       "│ 7033997000   ┆ ABADIANIA                     … │\n",
       "│ 1302237676   ┆ ABAETETUBA                    … │\n",
       "│ 1534278933   ┆ ACAUA                         … │\n",
       "│ 8891096194   ┆ ACOPIARA                      … │\n",
       "└──────────────┴─────────────────────────────────┘"
      ]
     },
     "execution_count": 33,
     "metadata": {},
     "output_type": "execute_result"
    }
   ],
   "source": [
    "df_region = df.with_columns([\n",
    "    pl.concat_str(['municipio']).hash().cast(pl.String).str.slice(0,10).cast(pl.Int64).alias('id_municipio')\n",
    "    ,pl.col('municipio').alias('desc_municipio')]\n",
    ").select(pl.col('id_municipio'), pl.col('desc_municipio')).unique().sort(by='desc_municipio')\n",
    "\n",
    "df_region.write_database('refined.dim_municipio',CONN_URL, if_table_exists='append', engine=\"sqlalchemy\")\n",
    "df_region.head()"
   ]
  },
  {
   "cell_type": "code",
   "execution_count": 34,
   "metadata": {},
   "outputs": [
    {
     "data": {
      "text/html": [
       "<div><style>\n",
       ".dataframe > thead > tr,\n",
       ".dataframe > tbody > tr {\n",
       "  text-align: right;\n",
       "  white-space: pre-wrap;\n",
       "}\n",
       "</style>\n",
       "<small>shape: (5, 2)</small><table border=\"1\" class=\"dataframe\"><thead><tr><th>id_ocorrencia</th><th>desc_ocorrencia</th></tr><tr><td>i64</td><td>str</td></tr></thead><tbody><tr><td>6808513444</td><td>&quot;Alteracao da Arma de Porte&quot;</td></tr><tr><td>7004520911</td><td>&quot;Apostilada no Exercito&quot;</td></tr><tr><td>3711152557</td><td>&quot;Apreensao de Arma de Fogo&quot;</td></tr><tr><td>1886445689</td><td>&quot;Arrecadacao&quot;</td></tr><tr><td>5182811986</td><td>&quot;Campanha do Desarmamento&quot;</td></tr></tbody></table></div>"
      ],
      "text/plain": [
       "shape: (5, 2)\n",
       "┌───────────────┬────────────────────────────┐\n",
       "│ id_ocorrencia ┆ desc_ocorrencia            │\n",
       "│ ---           ┆ ---                        │\n",
       "│ i64           ┆ str                        │\n",
       "╞═══════════════╪════════════════════════════╡\n",
       "│ 6808513444    ┆ Alteracao da Arma de Porte │\n",
       "│ 7004520911    ┆ Apostilada no Exercito     │\n",
       "│ 3711152557    ┆ Apreensao de Arma de Fogo  │\n",
       "│ 1886445689    ┆ Arrecadacao                │\n",
       "│ 5182811986    ┆ Campanha do Desarmamento   │\n",
       "└───────────────┴────────────────────────────┘"
      ]
     },
     "execution_count": 34,
     "metadata": {},
     "output_type": "execute_result"
    }
   ],
   "source": [
    "df_occurrence = df.with_columns([\n",
    "    pl.concat_str(['tipo_ocorrencia']).hash().cast(pl.String).str.slice(0,10).cast(pl.Int64).alias('id_ocorrencia')\n",
    "    ,pl.col('tipo_ocorrencia').alias('desc_ocorrencia')]\n",
    ").select(pl.col('id_ocorrencia'), pl.col('desc_ocorrencia')).unique().sort(by='desc_ocorrencia')\n",
    "\n",
    "df_occurrence.write_database('refined.dim_ocorrencia',CONN_URL, if_table_exists='append', engine=\"sqlalchemy\")\n",
    "df_occurrence.head()"
   ]
  },
  {
   "cell_type": "code",
   "execution_count": 35,
   "metadata": {},
   "outputs": [
    {
     "data": {
      "text/html": [
       "<div><style>\n",
       ".dataframe > thead > tr,\n",
       ".dataframe > tbody > tr {\n",
       "  text-align: right;\n",
       "  white-space: pre-wrap;\n",
       "}\n",
       "</style>\n",
       "<small>shape: (5, 2)</small><table border=\"1\" class=\"dataframe\"><thead><tr><th>id_marca</th><th>desc_marca</th></tr><tr><td>i64</td><td>str</td></tr></thead><tbody><tr><td>2620821601</td><td>&quot;A ESPINGARDA MINEIRA (EDMUNDO …</td></tr><tr><td>9082611769</td><td>&quot;A.N.C.                        …</td></tr><tr><td>9678061032</td><td>&quot;A.Y.A. (AGUIRRE Y ARANZABAL)  …</td></tr><tr><td>1304885033</td><td>&quot;ACIER FIN                     …</td></tr><tr><td>1482911640</td><td>&quot;ALFA-PROJ (SPOL S.R.O.)       …</td></tr></tbody></table></div>"
      ],
      "text/plain": [
       "shape: (5, 2)\n",
       "┌────────────┬─────────────────────────────────┐\n",
       "│ id_marca   ┆ desc_marca                      │\n",
       "│ ---        ┆ ---                             │\n",
       "│ i64        ┆ str                             │\n",
       "╞════════════╪═════════════════════════════════╡\n",
       "│ 2620821601 ┆ A ESPINGARDA MINEIRA (EDMUNDO … │\n",
       "│ 9082611769 ┆ A.N.C.                        … │\n",
       "│ 9678061032 ┆ A.Y.A. (AGUIRRE Y ARANZABAL)  … │\n",
       "│ 1304885033 ┆ ACIER FIN                     … │\n",
       "│ 1482911640 ┆ ALFA-PROJ (SPOL S.R.O.)       … │\n",
       "└────────────┴─────────────────────────────────┘"
      ]
     },
     "execution_count": 35,
     "metadata": {},
     "output_type": "execute_result"
    }
   ],
   "source": [
    "df_weapons_brand = df.with_columns([\n",
    "    pl.concat_str(['marca_arma']).hash().cast(pl.String).str.slice(0,10).cast(pl.Int64).alias('id_marca')\n",
    "    ,pl.col('marca_arma').alias('desc_marca')]\n",
    ").select(pl.col('id_marca'), pl.col('desc_marca')).unique().sort(by='desc_marca')\n",
    "\n",
    "df_weapons_brand.write_database('refined.dim_marca',CONN_URL, if_table_exists='append', engine=\"sqlalchemy\")\n",
    "df_weapons_brand.head()"
   ]
  },
  {
   "cell_type": "code",
   "execution_count": 36,
   "metadata": {},
   "outputs": [
    {
     "data": {
      "text/html": [
       "<div><style>\n",
       ".dataframe > thead > tr,\n",
       ".dataframe > tbody > tr {\n",
       "  text-align: right;\n",
       "  white-space: pre-wrap;\n",
       "}\n",
       "</style>\n",
       "<small>shape: (5, 2)</small><table border=\"1\" class=\"dataframe\"><thead><tr><th>id_arma</th><th>desc_arma</th></tr><tr><td>i64</td><td>str</td></tr></thead><tbody><tr><td>1108337642</td><td>&quot;Carabina                      …</td></tr><tr><td>5334210402</td><td>&quot;Carabina/Fuzil                …</td></tr><tr><td>6829860256</td><td>&quot;Carabina/cartucheira          …</td></tr><tr><td>7879237492</td><td>&quot;Carabina/espingarda           …</td></tr><tr><td>1747749307</td><td>&quot;Espingarda                    …</td></tr></tbody></table></div>"
      ],
      "text/plain": [
       "shape: (5, 2)\n",
       "┌────────────┬─────────────────────────────────┐\n",
       "│ id_arma    ┆ desc_arma                       │\n",
       "│ ---        ┆ ---                             │\n",
       "│ i64        ┆ str                             │\n",
       "╞════════════╪═════════════════════════════════╡\n",
       "│ 1108337642 ┆ Carabina                      … │\n",
       "│ 5334210402 ┆ Carabina/Fuzil                … │\n",
       "│ 6829860256 ┆ Carabina/cartucheira          … │\n",
       "│ 7879237492 ┆ Carabina/espingarda           … │\n",
       "│ 1747749307 ┆ Espingarda                    … │\n",
       "└────────────┴─────────────────────────────────┘"
      ]
     },
     "execution_count": 36,
     "metadata": {},
     "output_type": "execute_result"
    }
   ],
   "source": [
    "df_weapons = df.with_columns([\n",
    "    pl.concat_str(['especie_arma']).hash().cast(pl.String).str.slice(0,10).cast(pl.Int64).alias('id_arma')\n",
    "    ,pl.col('especie_arma').alias('desc_arma')]\n",
    ").select(pl.col('id_arma'), pl.col('desc_arma')).unique().sort(by='desc_arma')\n",
    "\n",
    "df_weapons.write_database('refined.dim_arma',CONN_URL, if_table_exists='append', engine=\"sqlalchemy\")\n",
    "df_weapons.head()"
   ]
  },
  {
   "cell_type": "code",
   "execution_count": 37,
   "metadata": {},
   "outputs": [
    {
     "data": {
      "text/html": [
       "<div><style>\n",
       ".dataframe > thead > tr,\n",
       ".dataframe > tbody > tr {\n",
       "  text-align: right;\n",
       "  white-space: pre-wrap;\n",
       "}\n",
       "</style>\n",
       "<small>shape: (5, 2)</small><table border=\"1\" class=\"dataframe\"><thead><tr><th>id_calibre</th><th>desc_calibre</th></tr><tr><td>i64</td><td>str</td></tr></thead><tbody><tr><td>3709912703</td><td>&quot;.17&quot;</td></tr><tr><td>1355815213</td><td>&quot;.22&quot;</td></tr><tr><td>9214006505</td><td>&quot;.22 LR&quot;</td></tr><tr><td>9380248335</td><td>&quot;.22 MAGNUM&quot;</td></tr><tr><td>5759397247</td><td>&quot;.28GA&quot;</td></tr></tbody></table></div>"
      ],
      "text/plain": [
       "shape: (5, 2)\n",
       "┌────────────┬──────────────┐\n",
       "│ id_calibre ┆ desc_calibre │\n",
       "│ ---        ┆ ---          │\n",
       "│ i64        ┆ str          │\n",
       "╞════════════╪══════════════╡\n",
       "│ 3709912703 ┆ .17          │\n",
       "│ 1355815213 ┆ .22          │\n",
       "│ 9214006505 ┆ .22 LR       │\n",
       "│ 9380248335 ┆ .22 MAGNUM   │\n",
       "│ 5759397247 ┆ .28GA        │\n",
       "└────────────┴──────────────┘"
      ]
     },
     "execution_count": 37,
     "metadata": {},
     "output_type": "execute_result"
    }
   ],
   "source": [
    "df_weapons_caliber = df.with_columns([\n",
    "    pl.concat_str(['calibre_arma']).hash().cast(pl.String).str.slice(0,10).cast(pl.Int64).alias('id_calibre')\n",
    "    ,pl.col('calibre_arma').alias('desc_calibre')]\n",
    ").select(pl.col('id_calibre'), pl.col('desc_calibre')).unique().sort(by='desc_calibre')\n",
    "\n",
    "df_weapons_caliber.write_database('refined.dim_calibre',CONN_URL, if_table_exists='append', engine=\"sqlalchemy\")\n",
    "df_weapons_caliber.head()"
   ]
  },
  {
   "cell_type": "code",
   "execution_count": 38,
   "metadata": {},
   "outputs": [
    {
     "data": {
      "text/html": [
       "<div><style>\n",
       ".dataframe > thead > tr,\n",
       ".dataframe > tbody > tr {\n",
       "  text-align: right;\n",
       "  white-space: pre-wrap;\n",
       "}\n",
       "</style>\n",
       "<small>shape: (5, 11)</small><table border=\"1\" class=\"dataframe\"><thead><tr><th>id</th><th>ano_ocorrencia</th><th>mes_ocorrencia</th><th>id_uf</th><th>id_municipio</th><th>id_ocorrencia</th><th>id_marca</th><th>id_arma</th><th>id_calibre</th><th>mais_1000_mil_hab</th><th>total</th></tr><tr><td>i64</td><td>i32</td><td>i32</td><td>i64</td><td>i64</td><td>i64</td><td>i64</td><td>i64</td><td>i64</td><td>i32</td><td>i32</td></tr></thead><tbody><tr><td>9909069664</td><td>2024</td><td>1</td><td>1205062640</td><td>7934730292</td><td>1191636506</td><td>5513301844</td><td>1747749307</td><td>3528128019</td><td>0</td><td>1</td></tr><tr><td>6854729849</td><td>2024</td><td>1</td><td>1205062640</td><td>7934730292</td><td>1191636506</td><td>8018495139</td><td>1385204371</td><td>2764471369</td><td>0</td><td>1</td></tr><tr><td>8311616951</td><td>2024</td><td>1</td><td>1205062640</td><td>4132942482</td><td>1191636506</td><td>8018495139</td><td>1385204371</td><td>1482489079</td><td>1</td><td>1</td></tr><tr><td>9967852303</td><td>2024</td><td>1</td><td>1205062640</td><td>4132942482</td><td>7004520911</td><td>8018495139</td><td>1385204371</td><td>1811035854</td><td>1</td><td>1</td></tr><tr><td>1504489775</td><td>2024</td><td>1</td><td>1205062640</td><td>4132942482</td><td>1225393204</td><td>8018495139</td><td>1385204371</td><td>1390595470</td><td>1</td><td>1</td></tr></tbody></table></div>"
      ],
      "text/plain": [
       "shape: (5, 11)\n",
       "┌────────────┬────────────┬────────────┬───────────┬───┬───────────┬───────────┬───────────┬───────┐\n",
       "│ id         ┆ ano_ocorre ┆ mes_ocorre ┆ id_uf     ┆ … ┆ id_arma   ┆ id_calibr ┆ mais_1000 ┆ total │\n",
       "│ ---        ┆ ncia       ┆ ncia       ┆ ---       ┆   ┆ ---       ┆ e         ┆ _mil_hab  ┆ ---   │\n",
       "│ i64        ┆ ---        ┆ ---        ┆ i64       ┆   ┆ i64       ┆ ---       ┆ ---       ┆ i32   │\n",
       "│            ┆ i32        ┆ i32        ┆           ┆   ┆           ┆ i64       ┆ i32       ┆       │\n",
       "╞════════════╪════════════╪════════════╪═══════════╪═══╪═══════════╪═══════════╪═══════════╪═══════╡\n",
       "│ 9909069664 ┆ 2024       ┆ 1          ┆ 120506264 ┆ … ┆ 174774930 ┆ 352812801 ┆ 0         ┆ 1     │\n",
       "│            ┆            ┆            ┆ 0         ┆   ┆ 7         ┆ 9         ┆           ┆       │\n",
       "│ 6854729849 ┆ 2024       ┆ 1          ┆ 120506264 ┆ … ┆ 138520437 ┆ 276447136 ┆ 0         ┆ 1     │\n",
       "│            ┆            ┆            ┆ 0         ┆   ┆ 1         ┆ 9         ┆           ┆       │\n",
       "│ 8311616951 ┆ 2024       ┆ 1          ┆ 120506264 ┆ … ┆ 138520437 ┆ 148248907 ┆ 1         ┆ 1     │\n",
       "│            ┆            ┆            ┆ 0         ┆   ┆ 1         ┆ 9         ┆           ┆       │\n",
       "│ 9967852303 ┆ 2024       ┆ 1          ┆ 120506264 ┆ … ┆ 138520437 ┆ 181103585 ┆ 1         ┆ 1     │\n",
       "│            ┆            ┆            ┆ 0         ┆   ┆ 1         ┆ 4         ┆           ┆       │\n",
       "│ 1504489775 ┆ 2024       ┆ 1          ┆ 120506264 ┆ … ┆ 138520437 ┆ 139059547 ┆ 1         ┆ 1     │\n",
       "│            ┆            ┆            ┆ 0         ┆   ┆ 1         ┆ 0         ┆           ┆       │\n",
       "└────────────┴────────────┴────────────┴───────────┴───┴───────────┴───────────┴───────────┴───────┘"
      ]
     },
     "execution_count": 38,
     "metadata": {},
     "output_type": "execute_result"
    }
   ],
   "source": [
    "df_final = (\n",
    "    df.join(df_uf, left_on='uf', right_on='desc_uf', how='inner' )\n",
    "    .join(df_region, left_on='municipio', right_on='desc_municipio', how='inner' )\n",
    "    .join(df_occurrence, left_on='tipo_ocorrencia', right_on='desc_ocorrencia', how='inner' )\n",
    "    .join(df_weapons_brand, left_on='marca_arma', right_on='desc_marca', how='inner' )\n",
    "    .join(df_weapons, left_on='especie_arma', right_on='desc_arma', how='inner')\n",
    "    .join(df_weapons_caliber, left_on='calibre_arma', right_on='desc_calibre', how='inner')\n",
    ")\n",
    "\n",
    "df_final = df_final.select(\n",
    "    pl.concat_str(['ano_ocorrencia','mes_ocorrencia','id_uf','id_municipio','id_ocorrencia','id_marca','id_arma','id_calibre','mais_1000_mil_hab','total']).hash().cast(pl.String).str.slice(0,10).cast(pl.Int64).alias('id')\n",
    "    , pl.col('ano_ocorrencia')\n",
    "    , pl.col('mes_ocorrencia')\n",
    "    , pl.col('id_uf')\n",
    "    , pl.col('id_municipio')\n",
    "    , pl.col('id_ocorrencia')\n",
    "    , pl.col('id_marca')\n",
    "    , pl.col('id_arma')\n",
    "    , pl.col('id_calibre')\n",
    "    , pl.col('mais_1000_mil_hab')\n",
    "    , pl.col('total')\n",
    ")\n",
    "\n",
    "df_final.write_database('refined.fat_ocorrencias',CONN_URL, if_table_exists='append', engine=\"sqlalchemy\")\n",
    "df_final.head()"
   ]
  }
 ],
 "metadata": {
  "kernelspec": {
   "display_name": ".venv",
   "language": "python",
   "name": "python3"
  },
  "language_info": {
   "codemirror_mode": {
    "name": "ipython",
    "version": 3
   },
   "file_extension": ".py",
   "mimetype": "text/x-python",
   "name": "python",
   "nbconvert_exporter": "python",
   "pygments_lexer": "ipython3",
   "version": "3.12.3"
  }
 },
 "nbformat": 4,
 "nbformat_minor": 2
}
