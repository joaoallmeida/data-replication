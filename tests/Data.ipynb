{
 "cells": [
  {
   "cell_type": "code",
   "execution_count": 1,
   "metadata": {},
   "outputs": [],
   "source": [
    "import os\n",
    "import polars as pl\n",
    "from unidecode import unidecode"
   ]
  },
  {
   "cell_type": "code",
   "execution_count": 2,
   "metadata": {},
   "outputs": [],
   "source": [
    "URL_2023 = 'https://servicos.dpf.gov.br/dadosabertos/SINARM_CSV/OCORRENCIAS/OCORRENCIAS_ate_2023.csv'\n",
    "URL_2024 = 'https://servicos.dpf.gov.br/dadosabertos/SINARM_CSV/OCORRENCIAS/OCORRENCIAS_2024.csv'\n",
    "CONN_URL = f'postgresql://{os.environ['THOR_DBUSER']}:{os.environ['THOR_DBPASSWORD']}@{os.environ['THOR_DBHOST']}:5432/{os.environ['THOR_DATABASE']}'"
   ]
  },
  {
   "cell_type": "code",
   "execution_count": 3,
   "metadata": {},
   "outputs": [],
   "source": [
    "def load_postgre(df: pl.DataFrame, schema:str , table:str) -> int:\n",
    "    return df.write_database(f'{schema}.{table}',CONN_URL, if_table_exists='append', engine=\"sqlalchemy\")"
   ]
  },
  {
   "cell_type": "code",
   "execution_count": 4,
   "metadata": {},
   "outputs": [],
   "source": [
    "# df = pl.read_csv(URL_2023, separator=',', encoding='ISO-8859-1', schema_overrides=schema)\n",
    "df = pl.read_csv(URL_2024, separator=';', encoding='ISO-8859-1')"
   ]
  },
  {
   "cell_type": "code",
   "execution_count": 5,
   "metadata": {},
   "outputs": [],
   "source": [
    "df = df.with_columns(\n",
    "        pl.col('MUNICIPIO').map_elements(lambda x: unidecode(x), return_dtype=pl.String),\n",
    "        pl.col('TIPO_OCORRENCIA').map_elements(lambda x: unidecode(x), return_dtype=pl.String).str.strip_chars(),\n",
    "        pl.col('CALIBRE_ARMA').str.strip_chars(),\n",
    "        pl.col('ANO_OCORRENCIA').cast(pl.Int32),\n",
    "        pl.col('MES_OCORRENCIA').cast(pl.Int32),\n",
    "        pl.col('TOTAL').cast(pl.Int32),\n",
    "        pl.when( pl.col('MAIS_1000_MIL_HAB') == 'S').then(1).otherwise(0).alias('MAIS_1000_MIL_HAB')\n",
    ")\n",
    "df = df.rename({col: col.lower() for col in df.columns})"
   ]
  },
  {
   "cell_type": "code",
   "execution_count": null,
   "metadata": {},
   "outputs": [],
   "source": [
    "load_postgre(df, 'raw', 'ocorrencias')"
   ]
  },
  {
   "cell_type": "code",
   "execution_count": null,
   "metadata": {},
   "outputs": [],
   "source": [
    "df_uf = df.with_columns([\n",
    "    pl.concat_str(['uf']).hash().cast(pl.String).str.slice(0,10).cast(pl.Int64).alias('id_uf')\n",
    "    ,pl.col('uf').str.strip_chars().alias('desc_uf')]\n",
    ").select(pl.col('id_uf'), pl.col('desc_uf')).unique().sort(by='desc_uf')\n",
    "\n",
    "load_postgre(df_uf, 'refined', 'dim_uf')\n",
    "df_uf.head()"
   ]
  },
  {
   "cell_type": "code",
   "execution_count": null,
   "metadata": {},
   "outputs": [],
   "source": [
    "df_region = df.with_columns([\n",
    "    pl.concat_str(['municipio']).hash().cast(pl.String).str.slice(0,10).cast(pl.Int64).alias('id_municipio')\n",
    "    ,pl.col('municipio').str.strip_chars().alias('desc_municipio')]\n",
    ").select(pl.col('id_municipio'), pl.col('desc_municipio')).unique().sort(by='desc_municipio')\n",
    "\n",
    "\n",
    "load_postgre(df_region, 'refined', 'dim_municipio')\n",
    "df_region.head()"
   ]
  },
  {
   "cell_type": "code",
   "execution_count": null,
   "metadata": {},
   "outputs": [],
   "source": [
    "df_occurrence = df.with_columns([\n",
    "    pl.concat_str(['tipo_ocorrencia']).hash().cast(pl.String).str.slice(0,10).cast(pl.Int64).alias('id_ocorrencia')\n",
    "    ,pl.col('tipo_ocorrencia').str.strip_chars().alias('desc_ocorrencia')]\n",
    ").select(pl.col('id_ocorrencia'), pl.col('desc_ocorrencia')).unique().sort(by='desc_ocorrencia')\n",
    "\n",
    "\n",
    "load_postgre(df_occurrence, 'refined', 'dim_ocorrencia')\n",
    "df_occurrence.head()"
   ]
  },
  {
   "cell_type": "code",
   "execution_count": null,
   "metadata": {},
   "outputs": [],
   "source": [
    "df_weapons_brand = df.with_columns([\n",
    "    pl.concat_str(['marca_arma']).hash().cast(pl.String).str.slice(0,10).cast(pl.Int64).alias('id_marca')\n",
    "    ,pl.col('marca_arma').str.strip_chars().alias('desc_marca')]\n",
    ").select(pl.col('id_marca'), pl.col('desc_marca')).unique().sort(by='desc_marca')\n",
    "\n",
    "\n",
    "load_postgre(df_weapons_brand, 'refined', 'dim_marca')\n",
    "df_weapons_brand.head()"
   ]
  },
  {
   "cell_type": "code",
   "execution_count": null,
   "metadata": {},
   "outputs": [],
   "source": [
    "df_weapons = df.with_columns([\n",
    "    pl.concat_str(['especie_arma']).hash().cast(pl.String).str.slice(0,10).cast(pl.Int64).alias('id_arma')\n",
    "    ,pl.col('especie_arma').str.strip_chars().alias('desc_arma')]\n",
    ").select(pl.col('id_arma'), pl.col('desc_arma')).unique().sort(by='desc_arma')\n",
    "\n",
    "load_postgre(df_weapons, 'refined', 'dim_arma')\n",
    "df_weapons.head()"
   ]
  },
  {
   "cell_type": "code",
   "execution_count": null,
   "metadata": {},
   "outputs": [],
   "source": [
    "df_weapons_caliber = df.with_columns([\n",
    "    pl.concat_str(['calibre_arma']).hash().cast(pl.String).str.slice(0,10).cast(pl.Int64).alias('id_calibre')\n",
    "    ,pl.col('calibre_arma').str.strip_chars().alias('desc_calibre')]\n",
    ").select(pl.col('id_calibre'), pl.col('desc_calibre')).unique().sort(by='desc_calibre')\n",
    "\n",
    "load_postgre(df_weapons_caliber, 'refined', 'dim_calibre')\n",
    "df_weapons_caliber.head()"
   ]
  },
  {
   "cell_type": "code",
   "execution_count": null,
   "metadata": {},
   "outputs": [],
   "source": [
    "df_final = (\n",
    "    df.join(df_uf, left_on='uf', right_on='desc_uf', how='inner' )\n",
    "    .join(df_region, left_on='municipio', right_on='desc_municipio', how='inner' )\n",
    "    .join(df_occurrence, left_on='tipo_ocorrencia', right_on='desc_ocorrencia', how='inner' )\n",
    "    .join(df_weapons_brand, left_on='marca_arma', right_on='desc_marca', how='inner' )\n",
    "    .join(df_weapons, left_on='especie_arma', right_on='desc_arma', how='inner')\n",
    "    .join(df_weapons_caliber, left_on='calibre_arma', right_on='desc_calibre', how='inner')\n",
    ")\n",
    "\n",
    "df_final = df_final.select(\n",
    "    pl.concat_str(['ano_ocorrencia','mes_ocorrencia','id_uf','id_municipio','id_ocorrencia','id_marca','id_arma','id_calibre','mais_1000_mil_hab','total']).hash().cast(pl.String).str.slice(0,10).cast(pl.Int64).alias('id')\n",
    "    , pl.col('ano_ocorrencia')\n",
    "    , pl.col('mes_ocorrencia')\n",
    "    , pl.col('id_uf')\n",
    "    , pl.col('id_municipio')\n",
    "    , pl.col('id_ocorrencia')\n",
    "    , pl.col('id_marca')\n",
    "    , pl.col('id_arma')\n",
    "    , pl.col('id_calibre')\n",
    "    , pl.col('mais_1000_mil_hab')\n",
    "    , pl.col('total')\n",
    ")\n",
    "\n",
    "load_postgre(df_final, 'refined', 'fat_ocorrencias')\n",
    "df_final.head()"
   ]
  }
 ],
 "metadata": {
  "kernelspec": {
   "display_name": ".venv",
   "language": "python",
   "name": "python3"
  },
  "language_info": {
   "codemirror_mode": {
    "name": "ipython",
    "version": 3
   },
   "file_extension": ".py",
   "mimetype": "text/x-python",
   "name": "python",
   "nbconvert_exporter": "python",
   "pygments_lexer": "ipython3",
   "version": "3.12.3"
  }
 },
 "nbformat": 4,
 "nbformat_minor": 2
}
