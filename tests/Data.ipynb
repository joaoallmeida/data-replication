{
 "cells": [
  {
   "cell_type": "code",
   "execution_count": 1,
   "metadata": {},
   "outputs": [],
   "source": [
    "import polars as pl\n",
    "import os"
   ]
  },
  {
   "cell_type": "code",
   "execution_count": 2,
   "metadata": {},
   "outputs": [],
   "source": [
    "# URL_2023 = 'https://servicos.dpf.gov.br/dadosabertos/SINARM_CSV/OCORRENCIAS/OCORRENCIAS_ate_2023.csv'\n",
    "URL_2024 = 'https://servicos.dpf.gov.br/dadosabertos/SINARM_CSV/OCORRENCIAS/OCORRENCIAS_2024.csv'"
   ]
  },
  {
   "cell_type": "code",
   "execution_count": 3,
   "metadata": {},
   "outputs": [],
   "source": [
    "# df_primary = pl.read_csv(URL_2023,separator=',', encoding='ISO-8859-1')\n",
    "df  = pl.read_csv(URL_2024,separator=';', encoding='ISO-8859-1')"
   ]
  },
  {
   "cell_type": "code",
   "execution_count": 4,
   "metadata": {},
   "outputs": [
    {
     "data": {
      "text/html": [
       "<div><style>\n",
       ".dataframe > thead > tr,\n",
       ".dataframe > tbody > tr {\n",
       "  text-align: right;\n",
       "  white-space: pre-wrap;\n",
       "}\n",
       "</style>\n",
       "<small>shape: (5, 10)</small><table border=\"1\" class=\"dataframe\"><thead><tr><th>ANO_OCORRENCIA</th><th>MES_OCORRENCIA</th><th>UF</th><th>MUNICIPIO</th><th>ESPECIE_ARMA</th><th>MARCA_ARMA</th><th>CALIBRE_ARMA</th><th>TIPO_OCORRENCIA</th><th>MAIS_1000_MIL_HAB</th><th>TOTAL</th></tr><tr><td>i64</td><td>i64</td><td>str</td><td>str</td><td>str</td><td>str</td><td>str</td><td>str</td><td>str</td><td>i64</td></tr></thead><tbody><tr><td>2024</td><td>1</td><td>&quot;AC&quot;</td><td>&quot;ACRELÂNDIA                    …</td><td>&quot;Espingarda                    …</td><td>&quot;ROSSI (AMADEO ROSSI S.A.)     …</td><td>&quot;28                            …</td><td>&quot;Furto de Arma de Fogo         …</td><td>&quot;N&quot;</td><td>1</td></tr><tr><td>2024</td><td>1</td><td>&quot;AC&quot;</td><td>&quot;ACRELÂNDIA                    …</td><td>&quot;Pistola                       …</td><td>&quot;TAURUS ARMAS S.A.             …</td><td>&quot;9x19mm                        …</td><td>&quot;Furto de Arma de Fogo         …</td><td>&quot;N&quot;</td><td>1</td></tr><tr><td>2024</td><td>1</td><td>&quot;AC&quot;</td><td>&quot;RIO BRANCO                    …</td><td>&quot;Pistola                       …</td><td>&quot;TAURUS ARMAS S.A.             …</td><td>&quot;.380 ACP                      …</td><td>&quot;Furto de Arma de Fogo         …</td><td>&quot;S&quot;</td><td>1</td></tr><tr><td>2024</td><td>1</td><td>&quot;AC&quot;</td><td>&quot;RIO BRANCO                    …</td><td>&quot;Pistola                       …</td><td>&quot;TAURUS ARMAS S.A.             …</td><td>&quot;.45 ACP                       …</td><td>&quot;Apostilada no Exercito        …</td><td>&quot;S&quot;</td><td>1</td></tr><tr><td>2024</td><td>1</td><td>&quot;AC&quot;</td><td>&quot;RIO BRANCO                    …</td><td>&quot;Pistola                       …</td><td>&quot;TAURUS ARMAS S.A.             …</td><td>&quot;9 mm                          …</td><td>&quot;Recuperação de Arma de Fogo   …</td><td>&quot;S&quot;</td><td>1</td></tr></tbody></table></div>"
      ],
      "text/plain": [
       "shape: (5, 10)\n",
       "┌─────────────┬─────────────┬─────┬─────────────┬───┬────────────┬────────────┬────────────┬───────┐\n",
       "│ ANO_OCORREN ┆ MES_OCORREN ┆ UF  ┆ MUNICIPIO   ┆ … ┆ CALIBRE_AR ┆ TIPO_OCORR ┆ MAIS_1000_ ┆ TOTAL │\n",
       "│ CIA         ┆ CIA         ┆ --- ┆ ---         ┆   ┆ MA         ┆ ENCIA      ┆ MIL_HAB    ┆ ---   │\n",
       "│ ---         ┆ ---         ┆ str ┆ str         ┆   ┆ ---        ┆ ---        ┆ ---        ┆ i64   │\n",
       "│ i64         ┆ i64         ┆     ┆             ┆   ┆ str        ┆ str        ┆ str        ┆       │\n",
       "╞═════════════╪═════════════╪═════╪═════════════╪═══╪════════════╪════════════╪════════════╪═══════╡\n",
       "│ 2024        ┆ 1           ┆ AC  ┆ ACRELÂNDIA  ┆ … ┆ 28         ┆ Furto de   ┆ N          ┆ 1     │\n",
       "│             ┆             ┆     ┆ …           ┆   ┆ …          ┆ Arma de    ┆            ┆       │\n",
       "│             ┆             ┆     ┆             ┆   ┆            ┆ Fogo       ┆            ┆       │\n",
       "│             ┆             ┆     ┆             ┆   ┆            ┆ …          ┆            ┆       │\n",
       "│ 2024        ┆ 1           ┆ AC  ┆ ACRELÂNDIA  ┆ … ┆ 9x19mm     ┆ Furto de   ┆ N          ┆ 1     │\n",
       "│             ┆             ┆     ┆ …           ┆   ┆ …          ┆ Arma de    ┆            ┆       │\n",
       "│             ┆             ┆     ┆             ┆   ┆            ┆ Fogo       ┆            ┆       │\n",
       "│             ┆             ┆     ┆             ┆   ┆            ┆ …          ┆            ┆       │\n",
       "│ 2024        ┆ 1           ┆ AC  ┆ RIO BRANCO  ┆ … ┆ .380 ACP   ┆ Furto de   ┆ S          ┆ 1     │\n",
       "│             ┆             ┆     ┆ …           ┆   ┆ …          ┆ Arma de    ┆            ┆       │\n",
       "│             ┆             ┆     ┆             ┆   ┆            ┆ Fogo       ┆            ┆       │\n",
       "│             ┆             ┆     ┆             ┆   ┆            ┆ …          ┆            ┆       │\n",
       "│ 2024        ┆ 1           ┆ AC  ┆ RIO BRANCO  ┆ … ┆ .45 ACP    ┆ Apostilada ┆ S          ┆ 1     │\n",
       "│             ┆             ┆     ┆ …           ┆   ┆ …          ┆ no         ┆            ┆       │\n",
       "│             ┆             ┆     ┆             ┆   ┆            ┆ Exercito   ┆            ┆       │\n",
       "│             ┆             ┆     ┆             ┆   ┆            ┆ …          ┆            ┆       │\n",
       "│ 2024        ┆ 1           ┆ AC  ┆ RIO BRANCO  ┆ … ┆ 9 mm       ┆ Recuperaçã ┆ S          ┆ 1     │\n",
       "│             ┆             ┆     ┆ …           ┆   ┆ …          ┆ o de Arma  ┆            ┆       │\n",
       "│             ┆             ┆     ┆             ┆   ┆            ┆ de Fogo    ┆            ┆       │\n",
       "│             ┆             ┆     ┆             ┆   ┆            ┆ …          ┆            ┆       │\n",
       "└─────────────┴─────────────┴─────┴─────────────┴───┴────────────┴────────────┴────────────┴───────┘"
      ]
     },
     "execution_count": 4,
     "metadata": {},
     "output_type": "execute_result"
    }
   ],
   "source": [
    "df.head()"
   ]
  },
  {
   "cell_type": "code",
   "execution_count": 5,
   "metadata": {},
   "outputs": [],
   "source": [
    "df = df.rename({col: col.lower() for col in df.columns})\n",
    "df = df.with_columns(pl.col('ano_ocorrencia').cast(pl.Int32), pl.col('mes_ocorrencia').cast(pl.Int32) )"
   ]
  },
  {
   "cell_type": "code",
   "execution_count": 6,
   "metadata": {},
   "outputs": [],
   "source": [
    "connUrl = f'postgresql://{os.environ['POSTGRE_USER']}:{os.environ['POSTGRE_PASSWORD']}@{os.environ['POSTGRE_HOST']}:5432/{os.environ['POSTGRE_DATABASE']}'"
   ]
  },
  {
   "cell_type": "code",
   "execution_count": 7,
   "metadata": {},
   "outputs": [
    {
     "data": {
      "text/plain": [
       "5026"
      ]
     },
     "execution_count": 7,
     "metadata": {},
     "output_type": "execute_result"
    }
   ],
   "source": [
    "df.write_database('raw.ocorrencias',connUrl, if_table_exists='append', engine=\"adbc\")"
   ]
  }
 ],
 "metadata": {
  "kernelspec": {
   "display_name": ".venv",
   "language": "python",
   "name": "python3"
  },
  "language_info": {
   "codemirror_mode": {
    "name": "ipython",
    "version": 3
   },
   "file_extension": ".py",
   "mimetype": "text/x-python",
   "name": "python",
   "nbconvert_exporter": "python",
   "pygments_lexer": "ipython3",
   "version": "3.12.3"
  }
 },
 "nbformat": 4,
 "nbformat_minor": 2
}
